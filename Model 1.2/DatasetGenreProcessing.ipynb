{
 "cells": [
  {
   "cell_type": "markdown",
   "metadata": {},
   "source": [
    "Analysing Dataset Data"
   ]
  },
  {
   "cell_type": "code",
   "execution_count": 2,
   "metadata": {},
   "outputs": [],
   "source": [
    "import pandas as pd\n",
    "import spotipy\n",
    "from spotipy.oauth2 import SpotifyClientCredentials"
   ]
  },
  {
   "cell_type": "markdown",
   "metadata": {},
   "source": [
    "Looking At SPOTIFYAPI Genres"
   ]
  },
  {
   "cell_type": "code",
   "execution_count": 10,
   "metadata": {},
   "outputs": [
    {
     "ename": "SpotifyException",
     "evalue": "http status: 400, code:-1 - Unsupported URL / URI., reason: None",
     "output_type": "error",
     "traceback": [
      "\u001b[0;31m---------------------------------------------------------------------------\u001b[0m",
      "\u001b[0;31mSpotifyException\u001b[0m                          Traceback (most recent call last)",
      "Cell \u001b[0;32mIn[10], line 6\u001b[0m\n\u001b[1;32m      2\u001b[0m sp \u001b[38;5;241m=\u001b[39m spotipy\u001b[38;5;241m.\u001b[39mSpotify(auth_manager\u001b[38;5;241m=\u001b[39mauth_manager)\n\u001b[1;32m      4\u001b[0m artistID \u001b[38;5;241m=\u001b[39m \u001b[38;5;28minput\u001b[39m(\u001b[38;5;124m\"\u001b[39m\u001b[38;5;124mInsert artistID here: \u001b[39m\u001b[38;5;124m\"\u001b[39m)\n\u001b[0;32m----> 6\u001b[0m artist \u001b[38;5;241m=\u001b[39m \u001b[43msp\u001b[49m\u001b[38;5;241;43m.\u001b[39;49m\u001b[43martist\u001b[49m\u001b[43m(\u001b[49m\u001b[43martistID\u001b[49m\u001b[43m)\u001b[49m\n\u001b[1;32m      7\u001b[0m genre \u001b[38;5;241m=\u001b[39m artist[\u001b[38;5;124m\"\u001b[39m\u001b[38;5;124mgenres\u001b[39m\u001b[38;5;124m\"\u001b[39m]\n\u001b[1;32m      8\u001b[0m \u001b[38;5;28mprint\u001b[39m(genre)\n",
      "File \u001b[0;32m~/miniconda3/envs/Spotify/lib/python3.12/site-packages/spotipy/client.py:391\u001b[0m, in \u001b[0;36mSpotify.artist\u001b[0;34m(self, artist_id)\u001b[0m\n\u001b[1;32m    384\u001b[0m \u001b[38;5;28;01mdef\u001b[39;00m \u001b[38;5;21martist\u001b[39m(\u001b[38;5;28mself\u001b[39m, artist_id):\n\u001b[1;32m    385\u001b[0m \u001b[38;5;250m    \u001b[39m\u001b[38;5;124;03m\"\"\" returns a single artist given the artist's ID, URI or URL\u001b[39;00m\n\u001b[1;32m    386\u001b[0m \n\u001b[1;32m    387\u001b[0m \u001b[38;5;124;03m        Parameters:\u001b[39;00m\n\u001b[1;32m    388\u001b[0m \u001b[38;5;124;03m            - artist_id - an artist ID, URI or URL\u001b[39;00m\n\u001b[1;32m    389\u001b[0m \u001b[38;5;124;03m    \"\"\"\u001b[39;00m\n\u001b[0;32m--> 391\u001b[0m     trid \u001b[38;5;241m=\u001b[39m \u001b[38;5;28;43mself\u001b[39;49m\u001b[38;5;241;43m.\u001b[39;49m\u001b[43m_get_id\u001b[49m\u001b[43m(\u001b[49m\u001b[38;5;124;43m\"\u001b[39;49m\u001b[38;5;124;43martist\u001b[39;49m\u001b[38;5;124;43m\"\u001b[39;49m\u001b[43m,\u001b[49m\u001b[43m \u001b[49m\u001b[43martist_id\u001b[49m\u001b[43m)\u001b[49m\n\u001b[1;32m    392\u001b[0m     \u001b[38;5;28;01mreturn\u001b[39;00m \u001b[38;5;28mself\u001b[39m\u001b[38;5;241m.\u001b[39m_get(\u001b[38;5;124m\"\u001b[39m\u001b[38;5;124martists/\u001b[39m\u001b[38;5;124m\"\u001b[39m \u001b[38;5;241m+\u001b[39m trid)\n",
      "File \u001b[0;32m~/miniconda3/envs/Spotify/lib/python3.12/site-packages/spotipy/client.py:1990\u001b[0m, in \u001b[0;36mSpotify._get_id\u001b[0;34m(self, type, id)\u001b[0m\n\u001b[1;32m   1987\u001b[0m     \u001b[38;5;28;01mreturn\u001b[39;00m \u001b[38;5;28mid\u001b[39m\n\u001b[1;32m   1989\u001b[0m \u001b[38;5;66;03m# TODO change to a ValueError in v3\u001b[39;00m\n\u001b[0;32m-> 1990\u001b[0m \u001b[38;5;28;01mraise\u001b[39;00m SpotifyException(\u001b[38;5;241m400\u001b[39m, \u001b[38;5;241m-\u001b[39m\u001b[38;5;241m1\u001b[39m, \u001b[38;5;124m\"\u001b[39m\u001b[38;5;124mUnsupported URL / URI.\u001b[39m\u001b[38;5;124m\"\u001b[39m)\n",
      "\u001b[0;31mSpotifyException\u001b[0m: http status: 400, code:-1 - Unsupported URL / URI., reason: None"
     ]
    }
   ],
   "source": [
    "auth_manager = SpotifyClientCredentials(client_id=\"21ff73a9b5a94ea8b3a969b906baead1\", client_secret=\"3761e7947ef542149467196a07cf2563\")\n",
    "sp = spotipy.Spotify(auth_manager=auth_manager)\n",
    "\n",
    "artistID = input(\"Insert artistID here: \")\n",
    "\n",
    "artist = sp.artist(artistID)\n",
    "genre = artist[\"genres\"]\n",
    "print(genre)"
   ]
  },
  {
   "cell_type": "code",
   "execution_count": 11,
   "metadata": {},
   "outputs": [],
   "source": [
    "df = pd.read_csv(\"spotify_data.csv\")\n",
    "df = df.drop(columns=[\"Unnamed: 0\"])\n",
    "df = df.dropna()\n",
    "genre_list = []\n",
    "for i in df[\"genre\"]:\n",
    "    if i not in genre_list:\n",
    "        genre_list.append(i)\n"
   ]
  },
  {
   "cell_type": "code",
   "execution_count": 7,
   "metadata": {},
   "outputs": [
    {
     "name": "stdout",
     "output_type": "stream",
     "text": [
      "<class 'pandas.core.frame.DataFrame'>\n",
      "Index: 1034006 entries, 0 to 1048574\n",
      "Data columns (total 19 columns):\n",
      " #   Column          Non-Null Count    Dtype  \n",
      "---  ------          --------------    -----  \n",
      " 0   artist          1034006 non-null  object \n",
      " 1   songName        1034006 non-null  object \n",
      " 2   id              1034006 non-null  object \n",
      " 3   popularity      1034006 non-null  int64  \n",
      " 4   year            1034006 non-null  int64  \n",
      " 5   genre           1034006 non-null  object \n",
      " 6   danceability    1034006 non-null  float64\n",
      " 7   energy          1034006 non-null  float64\n",
      " 8   key             1034006 non-null  int64  \n",
      " 9   loudness        1034006 non-null  float64\n",
      " 10  mode            1034006 non-null  int64  \n",
      " 11  speechiness     1034006 non-null  float64\n",
      " 12  acousticness    1034006 non-null  float64\n",
      " 13  instrumental    1034006 non-null  float64\n",
      " 14  liveness        1034006 non-null  float64\n",
      " 15  valence         1034006 non-null  float64\n",
      " 16  tempo           1034006 non-null  float64\n",
      " 17  duration_ms     1034006 non-null  int64  \n",
      " 18  time_signature  1034006 non-null  int64  \n",
      "dtypes: float64(9), int64(6), object(4)\n",
      "memory usage: 157.8+ MB\n"
     ]
    }
   ],
   "source": [
    "df = pd.read_csv(\"spotify_data.csv\")\n",
    "df = df.drop(columns=[\"Unnamed: 0\"])\n",
    "df = df.dropna()\n",
    "genre_list = []\n",
    "for i in df[\"genre\"]:\n",
    "    if \"-\" in i and i != \"k-pop\":\n",
    "        final = i.replace(\"-\",\" \")\n",
    "        genre_list.append(final)\n",
    "    else:\n",
    "        genre_list.append(i)\n",
    "\n",
    "df[\"genre\"] = genre_list\n",
    "df = df[(df[\"genre\"] != \"pop film\")]\n",
    "df = df.rename(columns={\"track_name\":\"songName\", \"track_id\": \"id\", \"instrumentalness\": \"instrumental\", \"artist_name\": \"artist\"})\n",
    "df.info()\n",
    "df.to_csv(\"spotify_data_cleaned.csv\")"
   ]
  }
 ],
 "metadata": {
  "kernelspec": {
   "display_name": "Spotify",
   "language": "python",
   "name": "python3"
  },
  "language_info": {
   "codemirror_mode": {
    "name": "ipython",
    "version": 3
   },
   "file_extension": ".py",
   "mimetype": "text/x-python",
   "name": "python",
   "nbconvert_exporter": "python",
   "pygments_lexer": "ipython3",
   "version": "3.12.0"
  }
 },
 "nbformat": 4,
 "nbformat_minor": 2
}

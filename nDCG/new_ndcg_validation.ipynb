{
 "cells": [
  {
   "cell_type": "markdown",
   "metadata": {},
   "source": [
    "### Run to Create first CSV (do not run more than once)"
   ]
  },
  {
   "cell_type": "code",
   "execution_count": 4,
   "metadata": {},
   "outputs": [
    {
     "name": "stdout",
     "output_type": "stream",
     "text": [
      "CSV created successfully\n"
     ]
    }
   ],
   "source": [
    "#Create empty DF with just headers\n",
    "import pandas as pd\n",
    "\n",
    "col = ['Model_num', 'DCG', 'IDCG', 'nDCG', 'Remarks']\n",
    "\n",
    "df = pd.DataFrame(columns=col) \n",
    "\n",
    "df.to_csv('nDCG_tracker.csv', mode='a', index=False, header=True)\n",
    "\n",
    "print(\"CSV created successfully\")"
   ]
  },
  {
   "cell_type": "code",
   "execution_count": 5,
   "metadata": {},
   "outputs": [],
   "source": [
    "#importing packages\n",
    "from sklearn.metrics import ndcg_score, dcg_score\n",
    "import numpy as np\n",
    "import pandas as pd\n",
    "#Recommendation order by the recommendation system\n",
    "def dcg(model_num, x, y, z, i, j, remarks):\n",
    "    recommendation_order = ['P1', 'P2', 'P3', 'P4', 'P5']\n",
    "    #Actual relevancy scores\n",
    "    relevancy_scores = [x, y, z, i, j]\n",
    "    #product - relevancy dictionary\n",
    "    prod_relevance_dict = dict(zip(recommendation_order, relevancy_scores))\n",
    "    print('product - relevancy dictionary ', prod_relevance_dict)\n",
    "    #product - relevancy dict in ideal order\n",
    "    ideal_prod_relevance_dict = {k: v for k, v in sorted(prod_relevance_dict.items(),\n",
    "                                                        key=lambda item: item[1], reverse=True)}\n",
    "    print('product - relevancy dict in ideal order ',ideal_prod_relevance_dict)\n",
    "    #Relevance scores in Ideal order\n",
    "    true_relevance = np.fromiter(ideal_prod_relevance_dict.values(), dtype=int).reshape(1,-1)\n",
    "    #Relevance scores in output order\n",
    "    relevance_score = np.fromiter(prod_relevance_dict.values(), dtype=int).reshape(1,-1)\n",
    "\n",
    "    dcg = dcg_score(true_relevance, relevance_score)\n",
    "    idcg = dcg_score(true_relevance, true_relevance)\n",
    "\n",
    "    result = {\n",
    "        'Model_num': [model_num],\n",
    "        'DCG': [round(dcg, 3)],\n",
    "        'IDCG': [round(idcg, 3)],\n",
    "        'nDCG': [round(dcg/idcg, 3)],\n",
    "        'Remarks': [remarks]\n",
    "    }\n",
    "\n",
    "    df = pd.DataFrame(result)\n",
    "\n",
    "    df.to_csv('nDCG_tracker.csv', index=False, mode='a', header=False)\n",
    "\n",
    "    print(\"Data appended successfully\") "
   ]
  },
  {
   "cell_type": "markdown",
   "metadata": {},
   "source": [
    "### Run to Input each nDCG update\n",
    "\n",
    "model_num, rankings for all five songs, remarks"
   ]
  },
  {
   "cell_type": "code",
   "execution_count": 6,
   "metadata": {},
   "outputs": [
    {
     "name": "stdout",
     "output_type": "stream",
     "text": [
      "product - relevancy dictionary  {'P1': 1, 'P2': 2, 'P3': 2, 'P4': 0, 'P5': 0}\n",
      "product - relevancy dict in ideal order  {'P2': 2, 'P3': 2, 'P1': 1, 'P4': 0, 'P5': 0}\n",
      "Data appended successfully\n"
     ]
    }
   ],
   "source": [
    "model_num = int(input('Model Number'))\n",
    "x = int(input(\"First song ranking from 0-3\"))\n",
    "y = int(input(\"Second song ranking from 0-3\"))\n",
    "z = int(input(\"Third song ranking from 0-3\"))\n",
    "i = int(input(\"Four song ranking from 0-3\"))\n",
    "j = int(input(\"Fifth song ranking from 0-3\"))\n",
    "remarks = input('Remarks')\n",
    "\n",
    "dcg(model_num, x, y, z, i, j, remarks)"
   ]
  }
 ],
 "metadata": {
  "kernelspec": {
   "display_name": "base",
   "language": "python",
   "name": "python3"
  },
  "language_info": {
   "codemirror_mode": {
    "name": "ipython",
    "version": 3
   },
   "file_extension": ".py",
   "mimetype": "text/x-python",
   "name": "python",
   "nbconvert_exporter": "python",
   "pygments_lexer": "ipython3",
   "version": "3.12.0"
  }
 },
 "nbformat": 4,
 "nbformat_minor": 2
}
